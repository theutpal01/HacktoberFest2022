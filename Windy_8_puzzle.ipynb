{
  "nbformat": 4,
  "nbformat_minor": 0,
  "metadata": {
    "colab": {
      "provenance": [],
      "collapsed_sections": []
    },
    "kernelspec": {
      "name": "python3",
      "display_name": "Python 3"
    },
    "language_info": {
      "name": "python"
    }
  },
  "cells": [
    {
      "cell_type": "code",
      "source": [
        "initial_state = [[0]*3]*4\n",
        "final_state = [[0]*3]*4\n",
        "current_state = [[0]*3]*4"
      ],
      "metadata": {
        "id": "nbR7C3-xwbWe"
      },
      "execution_count": null,
      "outputs": []
    },
    {
      "cell_type": "code",
      "source": [
        "# searching element in array\n",
        "def in_array(element, arr):\n",
        "  for i in range(3):\n",
        "    for j in range(3):\n",
        "      if element == arr[i][j]:\n",
        "        return [i,j]\n",
        "  return [-1,-1]\n"
      ],
      "metadata": {
        "id": "JpnhxJUexuA4"
      },
      "execution_count": null,
      "outputs": []
    },
    {
      "cell_type": "code",
      "source": [
        "# defining h function\n",
        "def h_cost(c_state):\n",
        "  cost = 0\n",
        "  for i in range(3):\n",
        "    for j in range(3):\n",
        "      if c_state[i][j] == 0:\n",
        "        continue\n",
        "      [x,y] = in_array(c_state[i][j],final_state)\n",
        "      if x < i:\n",
        "        vertical_cost = 1 #for north\n",
        "      else:\n",
        "        vertical_cost = 3 #for south\n",
        "      cost = cost + (abs(j-y)*2) + (abs(i-x)*vertical_cost)\n",
        "  return cost"
      ],
      "metadata": {
        "id": "1Ef90iVY14jr"
      },
      "execution_count": null,
      "outputs": []
    },
    {
      "cell_type": "code",
      "source": [
        "def f_cost(c_state):\n",
        "  cost = c_state[3][0]\n",
        "  cost = cost + h_cost(c_state)\n",
        "  return cost"
      ],
      "metadata": {
        "id": "2MxW51HNb95-"
      },
      "execution_count": null,
      "outputs": []
    },
    {
      "cell_type": "code",
      "source": [
        "# defining priority queue\n",
        "class Priority_Queue(object):\n",
        "  def __init__(self):\n",
        "    self.queue = []\n",
        "  def insert(self,element):\n",
        "    self.queue.append(element)\n",
        "  def delete(self):\n",
        "    max_index = 0\n",
        "    for i in range(len(self.queue)):\n",
        "      if f_cost(self.queue[i]) < f_cost(self.queue[max_index]):\n",
        "        max_index = i\n",
        "    item = self.queue[max_index]\n",
        "    del self.queue[max_index]\n",
        "    return item\n",
        "  def length(self):\n",
        "    return(len(self.queue))"
      ],
      "metadata": {
        "id": "_nOL8Fb23-Rl"
      },
      "execution_count": null,
      "outputs": []
    },
    {
      "cell_type": "code",
      "source": [
        "# getting the next node\n",
        "def get_next_node(c_state):\n",
        "  [x,y] = in_array(0, c_state)\n",
        "\n",
        "\n",
        "  t1 = list(map(list,c_state))\n",
        "  t2 = list(map(list,c_state))\n",
        "  t3 = list(map(list,c_state))\n",
        "  t4 = list(map(list,c_state))\n",
        "\n",
        "  if x+1 < 3:\n",
        "    a = -1\n",
        "    t2[x][y] = t2[x+1][y]\n",
        "    t2[x+1][y] = 0\n",
        "    t2[3][0] = t2[3][0] + 1\n",
        "    for key,data in explored_set.items():\n",
        "      if t2[0] == data[0] and t2[1] == data[1] and t2[2] == data[2]:\n",
        "        a = 1\n",
        "    if a !=1:\n",
        "      frontier_set.insert(t2)\n",
        "\n",
        "  if y+1 < 3:\n",
        "    a = -1\n",
        "    t4[x][y] = t4[x][y+1]\n",
        "    t4[x][y+1] = 0\n",
        "    t4[3][0] = t4[3][0] + 2\n",
        "    for key,data in explored_set.items():\n",
        "      if t4[0] == data[0] and t4[1] == data[1] and t4[2] == data[2]:\n",
        "        a = 1\n",
        "    if a !=1:\n",
        "      frontier_set.insert(t4)\n",
        "\n",
        "  if x-1 > -1:\n",
        "    a = -1\n",
        "    t1[x][y] = t1[x-1][y]\n",
        "    t1[x-1][y] = 0\n",
        "    t1[3][0] = t1[3][0] + 3\n",
        "    for key,data in explored_set.items():\n",
        "      if t1[0] == data[0] and t1[1] == data[1] and t1[2] == data[2]:\n",
        "        a = 1\n",
        "    if a !=1:\n",
        "      frontier_set.insert(t1)\n",
        "\n",
        "\n",
        "  if y-1 > -1:\n",
        "    a = -1\n",
        "    t3[x][y] = t3[x][y-1]\n",
        "    t3[x][y-1] = 0\n",
        "    t3[3][0] = t3[3][0] + 2\n",
        "    for key,data in explored_set.items():\n",
        "      if t3[0] == data[0] and t3[1] == data[1] and t3[2] == data[2]:\n",
        "        a = 1\n",
        "    if a !=1:\n",
        "      frontier_set.insert(t3)\n"
      ],
      "metadata": {
        "id": "LkJiWCtGBo5q"
      },
      "execution_count": null,
      "outputs": []
    },
    {
      "cell_type": "code",
      "source": [
        "# printing the matrix\n",
        "def print_matrix(matrix,element_count):\n",
        "  for i in range(3):\n",
        "      print(str(matrix[i][0]) + \"|\" + str(matrix[i][1]) + \"|\" + str(matrix[i][2]) + \"|\")\n",
        "  print(str(matrix[3][0])+ \"|\" + str(h_cost(matrix)) + \"|\")\n",
        "  print(\"#\" + str(element_count) + \"\\n\")"
      ],
      "metadata": {
        "id": "BUWpl_BXPzxl"
      },
      "execution_count": null,
      "outputs": []
    },
    {
      "cell_type": "code",
      "source": [
        "import numpy as np\n",
        "\n",
        "frontier_set = Priority_Queue()\n",
        "explored_set = {}\n",
        "element_count = 0\n",
        "if __name__ == '__main__':\n",
        "  flag = -1\n",
        "\n",
        "  print(\"Enter space separted input for the initial state of the puzzle:\")\n",
        "  i1 = list(map(int, input().split()))\n",
        "  i2 = list(map(int, input().split()))\n",
        "  i3 = list(map(int, input().split()))\n",
        "  initial_zero = [0, 0, 0]\n",
        "  initial_state_entries = i1+i2+i3+ initial_zero\n",
        "  initial_state = np.array(initial_state_entries).reshape(4, 3)\n",
        "  # initial_state = [[2,8,3],\n",
        "  #                  [6,7,4],\n",
        "  #                  [1,5,0],\n",
        "  #                  [0,0,0]]\n",
        "\n",
        "  print(\"Enter space separted input for the goal state of the puzzle:\")\n",
        "  f1 = list(map(int, input().split()))\n",
        "  f2 = list(map(int, input().split()))\n",
        "  f3 = list(map(int, input().split()))\n",
        "  final_state_entries = f1 + f2 + f3 + initial_zero\n",
        "  final_state = np.array(final_state_entries).reshape(4, 3)\n",
        "  # final_state = [[1,2,3],\n",
        "  #                [8,0,4],\n",
        "  #                [7,6,5],\n",
        "  #                [0,0,0]]\n",
        "\n",
        "  current_state = initial_state\n",
        "  print_matrix(current_state,element_count)\n",
        "  element_count = element_count + 1\n",
        "  get_next_node(current_state)\n",
        "\n",
        "  while(frontier_set.length()!=0):\n",
        "    a = -1\n",
        "    current_state = frontier_set.delete()\n",
        "\n",
        "    print_matrix(current_state,element_count)\n",
        "    get_next_node(current_state)\n",
        "    element_count = element_count + 1\n",
        "    if np.array_equal(current_state[0],final_state[0]) and np.array_equal(current_state[1],final_state[1]) and np.array_equal(current_state[2],final_state[2]):\n",
        "    # if current_state[0] == final_state[0] and current_state[1] == final_state[1] and current_state[2] == final_state[2]:\n",
        "      flag = 1\n",
        "      break\n",
        "    explored_set[len(explored_set)+1] = current_state\n",
        "\n",
        "  if flag == 1:\n",
        "    print(\"-----Solution found-----\")\n",
        "    print(\"Created by Poornaditya Mishra and Tanvi Shah\")\n",
        "  else:\n",
        "    print(\"No solution\")"
      ],
      "metadata": {
        "id": "nPNjj4vwAPe-",
        "colab": {
          "base_uri": "https://localhost:8080/"
        },
        "outputId": "b7ee26b5-75f4-4b9b-dba8-4106df79f64b"
      },
      "execution_count": null,
      "outputs": [
        {
          "output_type": "stream",
          "name": "stdout",
          "text": [
            "Enter space separted input for the initial state of the puzzle:\n",
            "2 8 3\n",
            "6 7 4\n",
            "1 5 0\n",
            "Enter space separted input for the goal state of the puzzle:\n",
            "1 2 3\n",
            "8 0 4\n",
            "7 6 5\n",
            "2|8|3|\n",
            "6|7|4|\n",
            "1|5|0|\n",
            "0|21|\n",
            "#0\n",
            "\n",
            "2|8|3|\n",
            "6|7|4|\n",
            "1|0|5|\n",
            "2|19|\n",
            "#1\n",
            "\n",
            "2|8|3|\n",
            "6|0|4|\n",
            "1|7|5|\n",
            "5|16|\n",
            "#2\n",
            "\n",
            "2|0|3|\n",
            "6|8|4|\n",
            "1|7|5|\n",
            "8|13|\n",
            "#3\n",
            "\n",
            "2|8|3|\n",
            "0|6|4|\n",
            "1|7|5|\n",
            "7|14|\n",
            "#4\n",
            "\n",
            "0|2|3|\n",
            "6|8|4|\n",
            "1|7|5|\n",
            "10|11|\n",
            "#5\n",
            "\n",
            "2|8|3|\n",
            "1|6|4|\n",
            "0|7|5|\n",
            "8|13|\n",
            "#6\n",
            "\n",
            "2|8|3|\n",
            "1|6|4|\n",
            "7|0|5|\n",
            "10|11|\n",
            "#7\n",
            "\n",
            "2|8|3|\n",
            "1|0|4|\n",
            "7|6|5|\n",
            "13|8|\n",
            "#8\n",
            "\n",
            "2|0|3|\n",
            "1|8|4|\n",
            "7|6|5|\n",
            "16|5|\n",
            "#9\n",
            "\n",
            "0|2|3|\n",
            "1|8|4|\n",
            "7|6|5|\n",
            "18|3|\n",
            "#10\n",
            "\n",
            "1|2|3|\n",
            "0|8|4|\n",
            "7|6|5|\n",
            "19|2|\n",
            "#11\n",
            "\n",
            "1|2|3|\n",
            "8|0|4|\n",
            "7|6|5|\n",
            "21|0|\n",
            "#12\n",
            "\n",
            "-----Solution found-----\n",
            "Created by Poornaditya Mishra and Tanvi Shah\n"
          ]
        }
      ]
    },
    {
      "cell_type": "code",
      "source": [],
      "metadata": {
        "id": "7bVHT89KgB8X"
      },
      "execution_count": null,
      "outputs": []
    }
  ]
}